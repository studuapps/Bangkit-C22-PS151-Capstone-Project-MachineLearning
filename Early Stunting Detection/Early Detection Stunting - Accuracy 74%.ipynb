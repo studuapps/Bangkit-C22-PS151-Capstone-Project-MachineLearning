{
  "cells": [
    {
      "cell_type": "markdown",
      "metadata": {
        "id": "view-in-github",
        "colab_type": "text"
      },
      "source": [
        "<a href=\"https://colab.research.google.com/github/alfianyaqien/studuapps/blob/machine-learning/Early%20Detection%20Stunting%20-%20Accuracy%2074%25.ipynb\" target=\"_parent\"><img src=\"https://colab.research.google.com/assets/colab-badge.svg\" alt=\"Open In Colab\"/></a>"
      ]
    },
    {
      "cell_type": "code",
      "execution_count": 1,
      "metadata": {
        "id": "CpfkF_kjHSKO"
      },
      "outputs": [],
      "source": [
        "# IMPORT LIBRARY\n",
        "\n",
        "import os\n",
        "import sys\n",
        "import pandas as pd\n",
        "import numpy as np\n",
        "import sklearn\n",
        "import matplotlib\n",
        "import keras\n",
        "import tensorflow as tf\n",
        "from google.colab import files\n",
        "import seaborn as sns\n",
        "import matplotlib.pyplot as plt\n",
        "%matplotlib inline\n",
        "from keras.utils.np_utils import to_categorical\n",
        "from sklearn.metrics import confusion_matrix\n",
        "from mlxtend.plotting import plot_confusion_matrix\n",
        "from sklearn.metrics import average_precision_score\n",
        "from sklearn.metrics import classification_report\n",
        "from sklearn import model_selection\n"
      ]
    },
    {
      "cell_type": "code",
      "execution_count": 3,
      "metadata": {
        "colab": {
          "base_uri": "https://localhost:8080/",
          "height": 73,
          "resources": {
            "http://localhost:8080/nbextensions/google.colab/files.js": {
              "data": "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",
              "headers": [
                [
                  "content-type",
                  "application/javascript"
                ]
              ],
              "ok": true,
              "status": 200,
              "status_text": ""
            }
          }
        },
        "id": "0aXeMBUNH2Dr",
        "outputId": "2a050930-1f09-4c40-d137-75fc76dc6cf5"
      },
      "outputs": [
        {
          "output_type": "display_data",
          "data": {
            "text/plain": [
              "<IPython.core.display.HTML object>"
            ],
            "text/html": [
              "\n",
              "     <input type=\"file\" id=\"files-9857862a-8525-4fe7-8960-9641c7a2b074\" name=\"files[]\" multiple disabled\n",
              "        style=\"border:none\" />\n",
              "     <output id=\"result-9857862a-8525-4fe7-8960-9641c7a2b074\">\n",
              "      Upload widget is only available when the cell has been executed in the\n",
              "      current browser session. Please rerun this cell to enable.\n",
              "      </output>\n",
              "      <script src=\"/nbextensions/google.colab/files.js\"></script> "
            ]
          },
          "metadata": {}
        },
        {
          "output_type": "stream",
          "name": "stdout",
          "text": [
            "Saving Data Stunting.csv to Data Stunting.csv\n"
          ]
        }
      ],
      "source": [
        "# UPLOAD FILE\n",
        "stunting = files.upload()"
      ]
    },
    {
      "cell_type": "markdown",
      "metadata": {
        "id": "yjExps2cJPSz"
      },
      "source": [
        "# New Section"
      ]
    },
    {
      "cell_type": "code",
      "execution_count": 4,
      "metadata": {
        "colab": {
          "base_uri": "https://localhost:8080/"
        },
        "id": "8_N6G3ZnJB4g",
        "outputId": "04909bd0-ce93-457a-f103-8f7a27c7fb0b"
      },
      "outputs": [
        {
          "output_type": "stream",
          "name": "stdout",
          "text": [
            "      Jenis Kelamin  Umur (0-59 bulan)  Berat badan (kg)  Tinggi badan (cm)  \\\n",
            "113               0                 54             12.00              98.00   \n",
            "114               0                 17              8.07              74.00   \n",
            "115               1                 28             11.07              86.05   \n",
            "116               0                 60              0.00             104.50   \n",
            "117               1                  6              9.05              72.00   \n",
            "...             ...                ...               ...                ...   \n",
            "1195              0                 51             14.07              98.00   \n",
            "1196              1                 49             14.00             102.00   \n",
            "1197              0                 18             10.00              80.00   \n",
            "1198              0                 51             16.00             102.00   \n",
            "1199              0                 53             16.00              98.00   \n",
            "\n",
            "      Label  \n",
            "113       1  \n",
            "114       1  \n",
            "115       1  \n",
            "116       0  \n",
            "117       1  \n",
            "...     ...  \n",
            "1195      1  \n",
            "1196      1  \n",
            "1197      1  \n",
            "1198      1  \n",
            "1199      1  \n",
            "\n",
            "[1087 rows x 5 columns]\n"
          ]
        }
      ],
      "source": [
        "# SAVE FILE AS CSV\n",
        "\n",
        "data = pd.read_csv('Data Stunting.csv', delimiter=';')\n",
        "print(data[113:1200])"
      ]
    },
    {
      "cell_type": "code",
      "execution_count": 5,
      "metadata": {
        "colab": {
          "base_uri": "https://localhost:8080/"
        },
        "id": "bcWICG5fMTxd",
        "outputId": "6ae42134-d206-4ca3-b510-1dace46b68d3"
      },
      "outputs": [
        {
          "output_type": "execute_result",
          "data": {
            "text/plain": [
              "Jenis Kelamin          int64\n",
              "Umur (0-59 bulan)      int64\n",
              "Berat badan (kg)     float64\n",
              "Tinggi badan (cm)    float64\n",
              "Label                  int64\n",
              "dtype: object"
            ]
          },
          "metadata": {},
          "execution_count": 5
        }
      ],
      "source": [
        "# Transform data to numeric to enable further analysis\n",
        "data = data.apply(pd.to_numeric)\n",
        "data.dtypes"
      ]
    },
    {
      "cell_type": "code",
      "execution_count": 6,
      "metadata": {
        "colab": {
          "base_uri": "https://localhost:8080/"
        },
        "id": "RnFkUQjOQQBI",
        "outputId": "602ba250-f1d3-4add-ebb6-7c2f7b60cc48"
      },
      "outputs": [
        {
          "output_type": "execute_result",
          "data": {
            "text/plain": [
              "False"
            ]
          },
          "metadata": {},
          "execution_count": 6
        }
      ],
      "source": [
        "# CHECKING MISSING DATA IN VARIABEL UMUR\n",
        "data['Umur (0-59 bulan)'].isnull().values.any()"
      ]
    },
    {
      "cell_type": "code",
      "execution_count": 7,
      "metadata": {
        "colab": {
          "base_uri": "https://localhost:8080/"
        },
        "id": "TpF0SFBuQQKZ",
        "outputId": "ef6fe6f5-9152-4605-f09e-1908e40c60ff"
      },
      "outputs": [
        {
          "output_type": "execute_result",
          "data": {
            "text/plain": [
              "False"
            ]
          },
          "metadata": {},
          "execution_count": 7
        }
      ],
      "source": [
        "# CHECKING MISSING DATA IN VARIABEL BERAT BADAN\n",
        "data['Berat badan (kg)'].isnull().values.any()"
      ]
    },
    {
      "cell_type": "code",
      "execution_count": 8,
      "metadata": {
        "colab": {
          "base_uri": "https://localhost:8080/"
        },
        "id": "NDCTDij4QQV6",
        "outputId": "23d7eda3-1812-486a-a6a8-11056a17e71d"
      },
      "outputs": [
        {
          "output_type": "execute_result",
          "data": {
            "text/plain": [
              "False"
            ]
          },
          "metadata": {},
          "execution_count": 8
        }
      ],
      "source": [
        "# CHECKING MISSING DATA IN VARIABEL TINGGI BADAN\n",
        "data['Tinggi badan (cm)'].isnull().values.any()"
      ]
    },
    {
      "cell_type": "code",
      "execution_count": 9,
      "metadata": {
        "colab": {
          "base_uri": "https://localhost:8080/"
        },
        "id": "v2YmHDLzQcns",
        "outputId": "6cd90e11-b8c7-4132-e616-bbf05f9356e2"
      },
      "outputs": [
        {
          "output_type": "execute_result",
          "data": {
            "text/plain": [
              "False"
            ]
          },
          "metadata": {},
          "execution_count": 9
        }
      ],
      "source": [
        "# CHECKING MISSING DATA IN VARIABEL LABEL\n",
        "data['Label'].isnull().values.any()"
      ]
    },
    {
      "cell_type": "code",
      "execution_count": 10,
      "metadata": {
        "colab": {
          "base_uri": "https://localhost:8080/",
          "height": 279
        },
        "id": "TiBPh13rOdfb",
        "outputId": "3dbfc1a8-9998-4dd4-8dce-b6352cabb0cb"
      },
      "outputs": [
        {
          "output_type": "display_data",
          "data": {
            "text/plain": [
              "<Figure size 432x288 with 1 Axes>"
            ],
            "image/png": "[encoded data removed]"
          },
          "metadata": {
            "needs_background": "light"
          }
        }
      ],
      "source": [
        "# Data Exploration\n",
        "# FOR LABEL\n",
        "sns.countplot(x=\"Label\", data=data, palette=\"bwr\")\n",
        "plt.show()"
      ]
    },
    {
      "cell_type": "code",
      "execution_count": null,
      "metadata": {
        "colab": {
          "base_uri": "https://localhost:8080/",
          "height": 300
        },
        "id": "EMyJ1wXlPDUL",
        "outputId": "b34eb755-3527-40c0-8685-13c2601682ba"
      },
      "outputs": [
        {
          "output_type": "execute_result",
          "data": {
            "text/plain": [
              "       Jenis Kelamin  Umur (0-59 bulan)  Berat badan (kg)  Tinggi badan (cm)  \\\n",
              "count    1932.000000        1932.000000       1932.000000        1932.000000   \n",
              "mean        0.551242          32.498447         10.473089          87.913328   \n",
              "std         0.497496          15.970016          4.971486          12.462152   \n",
              "min         0.000000           0.000000          0.000000          11.000000   \n",
              "25%         0.000000          20.000000          8.600000          80.000000   \n",
              "50%         1.000000          33.000000         11.250000          90.000000   \n",
              "75%         1.000000          46.000000         13.900000          97.600000   \n",
              "max         1.000000          60.000000         26.040000         118.000000   \n",
              "\n",
              "             Label  \n",
              "count  1932.000000  \n",
              "mean      0.513458  \n",
              "std       0.499948  \n",
              "min       0.000000  \n",
              "25%       0.000000  \n",
              "50%       1.000000  \n",
              "75%       1.000000  \n",
              "max       1.000000  "
            ],
            "text/html": [
              "\n",
              "  <div id=\"df-08d26ed6-aaa8-4dec-b78b-3a06009f5e19\">\n",
              "    <div class=\"colab-df-container\">\n",
              "      <div>\n",
              "<style scoped>\n",
              "    .dataframe tbody tr th:only-of-type {\n",
              "        vertical-align: middle;\n",
              "    }\n",
              "\n",
              "    .dataframe tbody tr th {\n",
              "        vertical-align: top;\n",
              "    }\n",
              "\n",
              "    .dataframe thead th {\n",
              "        text-align: right;\n",
              "    }\n",
              "</style>\n",
              "<table border=\"1\" class=\"dataframe\">\n",
              "  <thead>\n",
              "    <tr style=\"text-align: right;\">\n",
              "      <th></th>\n",
              "      <th>Jenis Kelamin</th>\n",
              "      <th>Umur (0-59 bulan)</th>\n",
              "      <th>Berat badan (kg)</th>\n",
              "      <th>Tinggi badan (cm)</th>\n",
              "      <th>Label</th>\n",
              "    </tr>\n",
              "  </thead>\n",
              "  <tbody>\n",
              "    <tr>\n",
              "      <th>count</th>\n",
              "      <td>1932.000000</td>\n",
              "      <td>1932.000000</td>\n",
              "      <td>1932.000000</td>\n",
              "      <td>1932.000000</td>\n",
              "      <td>1932.000000</td>\n",
              "    </tr>\n",
              "    <tr>\n",
              "      <th>mean</th>\n",
              "      <td>0.551242</td>\n",
              "      <td>32.498447</td>\n",
              "      <td>10.473089</td>\n",
              "      <td>87.913328</td>\n",
              "      <td>0.513458</td>\n",
              "    </tr>\n",
              "    <tr>\n",
              "      <th>std</th>\n",
              "      <td>0.497496</td>\n",
              "      <td>15.970016</td>\n",
              "      <td>4.971486</td>\n",
              "      <td>12.462152</td>\n",
              "      <td>0.499948</td>\n",
              "    </tr>\n",
              "    <tr>\n",
              "      <th>min</th>\n",
              "      <td>0.000000</td>\n",
              "      <td>0.000000</td>\n",
              "      <td>0.000000</td>\n",
              "      <td>11.000000</td>\n",
              "      <td>0.000000</td>\n",
              "    </tr>\n",
              "    <tr>\n",
              "      <th>25%</th>\n",
              "      <td>0.000000</td>\n",
              "      <td>20.000000</td>\n",
              "      <td>8.600000</td>\n",
              "      <td>80.000000</td>\n",
              "      <td>0.000000</td>\n",
              "    </tr>\n",
              "    <tr>\n",
              "      <th>50%</th>\n",
              "      <td>1.000000</td>\n",
              "      <td>33.000000</td>\n",
              "      <td>11.250000</td>\n",
              "      <td>90.000000</td>\n",
              "      <td>1.000000</td>\n",
              "    </tr>\n",
              "    <tr>\n",
              "      <th>75%</th>\n",
              "      <td>1.000000</td>\n",
              "      <td>46.000000</td>\n",
              "      <td>13.900000</td>\n",
              "      <td>97.600000</td>\n",
              "      <td>1.000000</td>\n",
              "    </tr>\n",
              "    <tr>\n",
              "      <th>max</th>\n",
              "      <td>1.000000</td>\n",
              "      <td>60.000000</td>\n",
              "      <td>26.040000</td>\n",
              "      <td>118.000000</td>\n",
              "      <td>1.000000</td>\n",
              "    </tr>\n",
              "  </tbody>\n",
              "</table>\n",
              "</div>\n",
              "      <button class=\"colab-df-convert\" onclick=\"convertToInteractive('df-08d26ed6-aaa8-4dec-b78b-3a06009f5e19')\"\n",
              "              title=\"Convert this dataframe to an interactive table.\"\n",
              "              style=\"display:none;\">\n",
              "        \n",
              "  <svg xmlns=\"http://www.w3.org/2000/svg\" height=\"24px\"viewBox=\"0 0 24 24\"\n",
              "       width=\"24px\">\n",
              "    <path d=\"M0 0h24v24H0V0z\" fill=\"none\"/>\n",
              "    <path d=\"M18.56 5.44l.94 2.06.94-2.06 2.06-.94-2.06-.94-.94-2.06-.94 2.06-2.06.94zm-11 1L8.5 8.5l.94-2.06 2.06-.94-2.06-.94L8.5 2.5l-.94 2.06-2.06.94zm10 10l.94 2.06.94-2.06 2.06-.94-2.06-.94-.94-2.06-.94 2.06-2.06.94z\"/><path d=\"M17.41 7.96l-1.37-1.37c-.4-.4-.92-.59-1.43-.59-.52 0-1.04.2-1.43.59L10.3 9.45l-7.72 7.72c-.78.78-.78 2.05 0 2.83L4 21.41c.39.39.9.59 1.41.59.51 0 1.02-.2 1.41-.59l7.78-7.78 2.81-2.81c.8-.78.8-2.07 0-2.86zM5.41 20L4 18.59l7.72-7.72 1.47 1.35L5.41 20z\"/>\n",
              "  </svg>\n",
              "      </button>\n",
              "      \n",
              "  <style>\n",
              "    .colab-df-container {\n",
              "      display:flex;\n",
              "      flex-wrap:wrap;\n",
              "      gap: 12px;\n",
              "    }\n",
              "\n",
              "    .colab-df-convert {\n",
              "      background-color: #E8F0FE;\n",
              "      border: none;\n",
              "      border-radius: 50%;\n",
              "      cursor: pointer;\n",
              "      display: none;\n",
              "      fill: #1967D2;\n",
              "      height: 32px;\n",
              "      padding: 0 0 0 0;\n",
              "      width: 32px;\n",
              "    }\n",
              "\n",
              "    .colab-df-convert:hover {\n",
              "      background-color: #E2EBFA;\n",
              "      box-shadow: 0px 1px 2px rgba(60, 64, 67, 0.3), 0px 1px 3px 1px rgba(60, 64, 67, 0.15);\n",
              "      fill: #174EA6;\n",
              "    }\n",
              "\n",
              "    [theme=dark] .colab-df-convert {\n",
              "      background-color: #3B4455;\n",
              "      fill: #D2E3FC;\n",
              "    }\n",
              "\n",
              "    [theme=dark] .colab-df-convert:hover {\n",
              "      background-color: #434B5C;\n",
              "      box-shadow: 0px 1px 3px 1px rgba(0, 0, 0, 0.15);\n",
              "      filter: drop-shadow(0px 1px 2px rgba(0, 0, 0, 0.3));\n",
              "      fill: #FFFFFF;\n",
              "    }\n",
              "  </style>\n",
              "\n",
              "      <script>\n",
              "        const buttonEl =\n",
              "          document.querySelector('#df-08d26ed6-aaa8-4dec-b78b-3a06009f5e19 button.colab-df-convert');\n",
              "        buttonEl.style.display =\n",
              "          google.colab.kernel.accessAllowed ? 'block' : 'none';\n",
              "\n",
              "        async function convertToInteractive(key) {\n",
              "          const element = document.querySelector('#df-08d26ed6-aaa8-4dec-b78b-3a06009f5e19');\n",
              "          const dataTable =\n",
              "            await google.colab.kernel.invokeFunction('convertToInteractive',\n",
              "                                                     [key], {});\n",
              "          if (!dataTable) return;\n",
              "\n",
              "          const docLinkHtml = 'Like what you see? Visit the ' +\n",
              "            '<a target=\"_blank\" href=https://colab.research.google.com/notebooks/data_table.ipynb>data table notebook</a>'\n",
              "            + ' to learn more about interactive tables.';\n",
              "          element.innerHTML = '';\n",
              "          dataTable['output_type'] = 'display_data';\n",
              "          await google.colab.output.renderOutput(dataTable, element);\n",
              "          const docLink = document.createElement('div');\n",
              "          docLink.innerHTML = docLinkHtml;\n",
              "          element.appendChild(docLink);\n",
              "        }\n",
              "      </script>\n",
              "    </div>\n",
              "  </div>\n",
              "  "
            ]
          },
          "metadata": {},
          "execution_count": 12
        }
      ],
      "source": [
        "# STATISTIC DESCRIPTIVE\n",
        "data.describe()"
      ]
    },
    {
      "cell_type": "code",
      "execution_count": null,
      "metadata": {
        "colab": {
          "base_uri": "https://localhost:8080/",
          "height": 716
        },
        "id": "g3l7xym_efwY",
        "outputId": "efa89e7d-8332-4668-c2ad-47f0ab413d48"
      },
      "outputs": [
        {
          "output_type": "display_data",
          "data": {
            "text/plain": [
              "<Figure size 864x864 with 6 Axes>"
            ],
            "image/png": "[encoded data removed]"
          },
          "metadata": {
            "needs_background": "light"
          }
        }
      ],
      "source": [
        "# HISTOGRAM IN EACH VARIABLE\n",
        "data.hist(figsize = (12, 12))\n",
        "plt.show()"
      ]
    },
    {
      "cell_type": "code",
      "execution_count": null,
      "metadata": {
        "colab": {
          "base_uri": "https://localhost:8080/",
          "height": 596
        },
        "id": "pQ8vBQv6kjf1",
        "outputId": "fc1a5a1a-cf61-4651-d1de-9f5471636676"
      },
      "outputs": [
        {
          "output_type": "display_data",
          "data": {
            "text/plain": [
              "<Figure size 720x720 with 2 Axes>"
            ],
            "image/png": "[encoded data removed]"
          },
          "metadata": {
            "needs_background": "light"
          }
        }
      ],
      "source": [
        "# HEAT MAP\n",
        "plt.figure(figsize=(10,10))\n",
        "sns.heatmap(data.corr(),annot=True,fmt='.1f')\n",
        "plt.show()"
      ]
    },
    {
      "cell_type": "code",
      "execution_count": null,
      "metadata": {
        "colab": {
          "base_uri": "https://localhost:8080/",
          "height": 304
        },
        "id": "_hBcJGhfgOUU",
        "outputId": "4cd78bdd-fab8-4f4f-8b75-895d20049b95"
      },
      "outputs": [
        {
          "output_type": "display_data",
          "data": {
            "text/plain": [
              "<Figure size 1440x432 with 1 Axes>"
            ],
            "image/png": "[encoded data removed]"
          },
          "metadata": {
            "needs_background": "light"
          }
        }
      ],
      "source": [
        "pd.crosstab(data['Umur (0-59 bulan)'],data['Label']).plot(kind=\"bar\",figsize=(20,6))\n",
        "plt.title('Stunting Frequency for Ages')\n",
        "plt.xlabel('Age')\n",
        "plt.ylabel('Frequency')\n",
        "plt.show()"
      ]
    },
    {
      "cell_type": "code",
      "execution_count": null,
      "metadata": {
        "colab": {
          "base_uri": "https://localhost:8080/",
          "height": 328
        },
        "id": "zloVCCuGgOcq",
        "outputId": "3436b5a4-5b90-493a-afe7-60cdd2f8ced7"
      },
      "outputs": [
        {
          "output_type": "display_data",
          "data": {
            "text/plain": [
              "<Figure size 1440x432 with 1 Axes>"
            ],
            "image/png": "[encoded data removed]"
          },
          "metadata": {
            "needs_background": "light"
          }
        }
      ],
      "source": [
        "pd.crosstab(data['Berat badan (kg)'],data['Label']).plot(kind=\"bar\",figsize=(20,6))\n",
        "plt.title('Stunting Frequency for Weight')\n",
        "plt.xlabel('Weight')\n",
        "plt.ylabel('Frequency')\n",
        "plt.show()"
      ]
    },
    {
      "cell_type": "code",
      "execution_count": null,
      "metadata": {
        "id": "5Hv8bnZPmBE2",
        "colab": {
          "base_uri": "https://localhost:8080/",
          "height": 320
        },
        "outputId": "ded21adc-bffc-4f03-aaa0-f8f4bcccaa1e"
      },
      "outputs": [
        {
          "output_type": "display_data",
          "data": {
            "text/plain": [
              "<Figure size 1440x432 with 1 Axes>"
            ],
            "image/png": "[encoded data removed]"
          },
          "metadata": {
            "needs_background": "light"
          }
        }
      ],
      "source": [
        "pd.crosstab(data['Tinggi badan (cm)'],data['Label']).plot(kind=\"bar\",figsize=(20,6))\n",
        "plt.title('Stunting Frequency for Height')\n",
        "plt.xlabel('Height')\n",
        "plt.ylabel('Frequency')\n",
        "plt.show()"
      ]
    },
    {
      "cell_type": "code",
      "execution_count": 11,
      "metadata": {
        "colab": {
          "base_uri": "https://localhost:8080/"
        },
        "id": "3FLK3tDqmBOm",
        "outputId": "c09829ab-7c0e-4f6e-b4ee-c493925fa1b4"
      },
      "outputs": [
        {
          "output_type": "stream",
          "name": "stderr",
          "text": [
            "/usr/local/lib/python3.7/dist-packages/ipykernel_launcher.py:2: FutureWarning: In a future version of pandas all arguments of DataFrame.drop except for the argument 'labels' will be keyword-only\n",
            "  \n"
          ]
        },
        {
          "output_type": "execute_result",
          "data": {
            "text/plain": [
              "array([-0.92836243,  0.42777624, -0.50315645,  1.86867358])"
            ]
          },
          "metadata": {},
          "execution_count": 11
        }
      ],
      "source": [
        "# Create Training and Label Dataset\n",
        "X = np.array(data.drop(['Label'], 1))\n",
        "Y = np.array(data['Label'])\n",
        "\n",
        "# NORMALIZE DATA X\n",
        "X = (X - X.mean())/X.std()\n",
        "X[0]"
      ]
    },
    {
      "cell_type": "code",
      "execution_count": 13,
      "metadata": {
        "colab": {
          "base_uri": "https://localhost:8080/"
        },
        "id": "Ch9oNKYfmBXw",
        "outputId": "8899e19b-f030-443b-fa21-6c1406f67b95"
      },
      "outputs": [
        {
          "output_type": "stream",
          "name": "stdout",
          "text": [
            "(1738, 2)\n",
            "(155, 2)\n",
            "(39, 2)\n"
          ]
        }
      ],
      "source": [
        "# SPLIT DATA INTO DATA TRAINING AND DATA VALIDATION\n",
        "X_train, X_val, Y_train, Y_val = model_selection.train_test_split(X, Y, stratify= Y, random_state=42, test_size = 0.1)\n",
        "\n",
        "# convert the data to categorical labels\n",
        "Y_train = to_categorical(Y_train, num_classes=None)\n",
        "Y_val = to_categorical(Y_val, num_classes=None)\n",
        "print (Y_train.shape)\n",
        "\n",
        "# SPLIT DATA VALIDATION INTO DATA VALIDATION AND DATA TESTING\n",
        "X_val, X_test, Y_val, Y_test = model_selection.train_test_split(X_val, Y_val, stratify = Y_val, random_state=42, test_size =0.2)\n",
        "print(Y_val.shape)\n",
        "print(Y_test.shape)"
      ]
    },
    {
      "cell_type": "code",
      "execution_count": 14,
      "metadata": {
        "id": "g1HVu8M8Ms5H",
        "colab": {
          "base_uri": "https://localhost:8080/"
        },
        "outputId": "eea460d8-9566-44cb-d962-9fda2121e0e6"
      },
      "outputs": [
        {
          "output_type": "stream",
          "name": "stdout",
          "text": [
            "[[-0.92836243  0.51253491 -0.44721573  1.98168513]\n",
            " [-0.90010954 -0.4763162  -0.65995998  1.18212838]\n",
            " [-0.90010954  0.5407878  -0.92836243  1.90257704]\n",
            " [-0.90010954  0.06048868 -0.92836243  1.54094007]\n",
            " [-0.92836243 -0.13728154 -0.58085189  1.37707331]\n",
            " [-0.92836243  0.62554646 -0.53282198  1.95343224]\n",
            " [-0.90010954 -0.13728154 -0.58932776  1.67090335]\n",
            " [-0.90010954 -0.27854598 -0.63453238  1.2781882 ]\n",
            " [-0.90010954  0.08874157 -0.92836243  1.58049411]\n",
            " [-0.90010954 -0.70233932 -0.62605652  1.35729629]\n",
            " [-0.92836243  0.34301757 -0.50456909  1.95343224]\n",
            " [-0.90010954 -0.08077576 -0.58791512  1.50138602]\n",
            " [-0.90010954  0.0322358  -0.50315645  1.78391491]\n",
            " [-0.92836243 -0.30679887 -0.64413837  1.27536291]\n",
            " [-0.92836243  0.34301757 -0.54694843  1.67655393]\n",
            " [-0.92836243 -0.39155754 -0.69979656  1.19060424]\n",
            " [-0.90010954  0.06048868 -0.586785    1.78391491]\n",
            " [-0.92836243  0.56904069 -0.54412314  1.93082993]\n",
            " [-0.90010954 -0.16553443 -0.58367718  1.37707331]\n",
            " [-0.92836243  0.71030513 -0.50456909  1.95343224]\n",
            " [-0.90010954  0.17350024 -0.56107487  1.61439758]\n",
            " [-0.92836243 -0.39155754 -0.92836243  1.22450771]\n",
            " [-0.92836243 -0.67408643 -0.70233932  1.07759269]\n",
            " [-0.90010954 -0.02426998 -0.56672545  1.4307538 ]\n",
            " [-0.92836243 -0.19378732 -0.56107487  1.61439758]\n",
            " [-0.92836243 -0.36330465 -0.67408643  1.3036158 ]\n",
            " [-0.90010954  0.59729357 -0.58932776  1.78391491]\n",
            " [-0.92836243 -0.10902865 -0.58932776  1.5578918 ]\n",
            " [-0.90010954 -0.25029309 -0.61758065  1.38837447]\n",
            " [-0.90010954 -0.19378732 -0.58932776  1.36294687]\n",
            " [-0.90010954  0.17350024 -0.53140934  1.72740913]\n",
            " [-0.92836243  0.0322358  -0.92836243  1.68220451]\n",
            " [-0.92836243  0.71030513 -0.32657589  2.16532891]\n",
            " [-0.90010954 -0.27854598 -0.64385584  1.33186869]\n",
            " [-0.90010954 -0.64583354 -0.92836243  1.1256226 ]\n",
            " [-0.92836243  0.37127046 -0.56107487  1.78391491]\n",
            " [-0.90010954 -0.13728154 -0.63735767  1.608747  ]\n",
            " [-0.90010954 -0.44806332 -0.67267378  1.21885713]\n",
            " [-0.90010954  0.5407878  -0.52152083  1.78956549]\n",
            " [-0.92836243  0.14524735 -0.53282198  1.58614469]\n",
            " [-0.92836243  0.25825891 -0.50456909  1.86867358]\n",
            " [-0.90010954  0.2865118  -0.38901478  1.84183333]\n",
            " [-0.92836243 -0.05252287 -0.64583354  1.50138602]\n",
            " [-0.92836243  0.34301757 -0.56107487  1.89692647]\n",
            " [-0.92836243 -0.16553443 -0.64583354  1.43357909]\n",
            " [-0.90010954 -0.27854598 -0.61758065  1.38837447]\n",
            " [-0.90010954 -0.19378732 -0.56107487  1.69915624]\n",
            " [-0.90010954  0.17350024 -0.58848017  1.75566202]\n",
            " [-0.92836243  0.42777624 -0.50315645  1.86867358]\n",
            " [-0.90010954  0.17350024 -0.58848017  1.78391491]]\n"
          ]
        }
      ],
      "source": [
        "print(X_val[0:50])"
      ]
    },
    {
      "cell_type": "code",
      "execution_count": 21,
      "metadata": {
        "colab": {
          "base_uri": "https://localhost:8080/"
        },
        "id": "kU89jCqEuEK2",
        "outputId": "427bd475-628f-4fdb-f6f6-fd8fc3b23d80"
      },
      "outputs": [
        {
          "output_type": "stream",
          "name": "stdout",
          "text": [
            "Model: \"sequential_2\"\n",
            "_________________________________________________________________\n",
            " Layer (type)                Output Shape              Param #   \n",
            "=================================================================\n",
            " dense_10 (Dense)            (None, 128)               640       \n",
            "                                                                 \n",
            " dense_11 (Dense)            (None, 64)                8256      \n",
            "                                                                 \n",
            " dropout_3 (Dropout)         (None, 64)                0         \n",
            "                                                                 \n",
            " dense_12 (Dense)            (None, 32)                2080      \n",
            "                                                                 \n",
            " dropout_4 (Dropout)         (None, 32)                0         \n",
            "                                                                 \n",
            " dense_13 (Dense)            (None, 16)                528       \n",
            "                                                                 \n",
            " dense_14 (Dense)            (None, 2)                 34        \n",
            "                                                                 \n",
            "=================================================================\n",
            "Total params: 11,538\n",
            "Trainable params: 11,538\n",
            "Non-trainable params: 0\n",
            "_________________________________________________________________\n",
            "None\n"
          ]
        }
      ],
      "source": [
        "#BUILDING MODEL\n",
        "model = tf.keras.Sequential([\n",
        "                             tf.keras.layers.Dense(128, input_dim=4, kernel_initializer='normal', kernel_regularizer=tf.keras.regularizers.l2(0.001), activation='relu'),\n",
        "                             tf.keras.layers.Dense(64, kernel_initializer='normal', activation='relu'),\n",
        "                             tf.keras.layers.Dropout(0.25),\n",
        "                             tf.keras.layers.Dense(32, kernel_initializer='normal', activation='relu'),\n",
        "                             tf.keras.layers.Dropout(0.25),\n",
        "                             tf.keras.layers.Dense(16, activation='relu'),\n",
        "                             tf.keras.layers.Dense(2, activation='sigmoid')\n",
        "]) \n",
        "print(model.summary())"
      ]
    },
    {
      "cell_type": "code",
      "execution_count": 22,
      "metadata": {
        "id": "Zu79VtygwqDt"
      },
      "outputs": [],
      "source": [
        "# COMPILE MODEL\n",
        "lr = 0.001\n",
        "adam = tf.keras.optimizers.Adam(learning_rate=lr)\n",
        "model.compile(loss='binary_crossentropy', optimizer=adam, metrics=['accuracy'])"
      ]
    },
    {
      "cell_type": "code",
      "execution_count": 23,
      "metadata": {
        "colab": {
          "base_uri": "https://localhost:8080/"
        },
        "id": "tjlwTWEzw8_v",
        "outputId": "226ffdb8-22cd-4f8e-d3c7-36dc3974e505"
      },
      "outputs": [
        {
          "output_type": "stream",
          "name": "stdout",
          "text": [
            "Epoch 1/150\n",
            "70/70 [==============================] - 1s 5ms/step - loss: 0.6939 - accuracy: 0.5006 - val_loss: 0.6930 - val_accuracy: 0.5161\n",
            "Epoch 2/150\n",
            "70/70 [==============================] - 0s 2ms/step - loss: 0.6931 - accuracy: 0.5155 - val_loss: 0.6930 - val_accuracy: 0.5161\n",
            "Epoch 3/150\n",
            "70/70 [==============================] - 0s 2ms/step - loss: 0.6928 - accuracy: 0.5046 - val_loss: 0.6903 - val_accuracy: 0.5161\n",
            "Epoch 4/150\n",
            "70/70 [==============================] - 0s 3ms/step - loss: 0.6874 - accuracy: 0.5299 - val_loss: 0.6702 - val_accuracy: 0.6000\n",
            "Epoch 5/150\n",
            "70/70 [==============================] - 0s 2ms/step - loss: 0.6659 - accuracy: 0.6087 - val_loss: 0.5976 - val_accuracy: 0.6968\n",
            "Epoch 6/150\n",
            "70/70 [==============================] - 0s 2ms/step - loss: 0.6200 - accuracy: 0.6484 - val_loss: 0.5996 - val_accuracy: 0.6710\n",
            "Epoch 7/150\n",
            "70/70 [==============================] - 0s 2ms/step - loss: 0.5991 - accuracy: 0.6651 - val_loss: 0.5335 - val_accuracy: 0.7419\n",
            "Epoch 8/150\n",
            "70/70 [==============================] - 0s 2ms/step - loss: 0.5871 - accuracy: 0.6887 - val_loss: 0.5567 - val_accuracy: 0.7032\n",
            "Epoch 9/150\n",
            "70/70 [==============================] - 0s 2ms/step - loss: 0.5906 - accuracy: 0.6657 - val_loss: 0.5998 - val_accuracy: 0.6516\n",
            "Epoch 10/150\n",
            "70/70 [==============================] - 0s 3ms/step - loss: 0.5946 - accuracy: 0.6743 - val_loss: 0.5731 - val_accuracy: 0.6645\n",
            "Epoch 11/150\n",
            "70/70 [==============================] - 0s 2ms/step - loss: 0.5845 - accuracy: 0.6830 - val_loss: 0.5292 - val_accuracy: 0.7226\n",
            "Epoch 12/150\n",
            "70/70 [==============================] - 0s 2ms/step - loss: 0.5768 - accuracy: 0.6876 - val_loss: 0.5075 - val_accuracy: 0.7484\n",
            "Epoch 13/150\n",
            "70/70 [==============================] - 0s 2ms/step - loss: 0.5810 - accuracy: 0.6824 - val_loss: 0.5485 - val_accuracy: 0.6968\n",
            "Epoch 14/150\n",
            "70/70 [==============================] - 0s 2ms/step - loss: 0.5775 - accuracy: 0.6830 - val_loss: 0.5113 - val_accuracy: 0.7290\n",
            "Epoch 15/150\n",
            "70/70 [==============================] - 0s 2ms/step - loss: 0.5604 - accuracy: 0.7002 - val_loss: 0.5048 - val_accuracy: 0.7419\n",
            "Epoch 16/150\n",
            "70/70 [==============================] - 0s 2ms/step - loss: 0.5702 - accuracy: 0.6916 - val_loss: 0.5123 - val_accuracy: 0.7806\n",
            "Epoch 17/150\n",
            "70/70 [==============================] - 0s 2ms/step - loss: 0.5714 - accuracy: 0.6997 - val_loss: 0.5118 - val_accuracy: 0.7355\n",
            "Epoch 18/150\n",
            "70/70 [==============================] - 0s 2ms/step - loss: 0.5796 - accuracy: 0.6853 - val_loss: 0.5553 - val_accuracy: 0.6903\n",
            "Epoch 19/150\n",
            "70/70 [==============================] - 0s 2ms/step - loss: 0.5797 - accuracy: 0.6881 - val_loss: 0.5708 - val_accuracy: 0.6710\n",
            "Epoch 20/150\n",
            "70/70 [==============================] - 0s 2ms/step - loss: 0.5708 - accuracy: 0.6910 - val_loss: 0.5031 - val_accuracy: 0.7484\n",
            "Epoch 21/150\n",
            "70/70 [==============================] - 0s 2ms/step - loss: 0.5721 - accuracy: 0.6928 - val_loss: 0.5073 - val_accuracy: 0.7419\n",
            "Epoch 22/150\n",
            "70/70 [==============================] - 0s 2ms/step - loss: 0.5601 - accuracy: 0.6985 - val_loss: 0.5070 - val_accuracy: 0.7290\n",
            "Epoch 23/150\n",
            "70/70 [==============================] - 0s 2ms/step - loss: 0.5578 - accuracy: 0.7066 - val_loss: 0.5247 - val_accuracy: 0.7355\n",
            "Epoch 24/150\n",
            "70/70 [==============================] - 0s 2ms/step - loss: 0.5661 - accuracy: 0.6962 - val_loss: 0.4996 - val_accuracy: 0.7355\n",
            "Epoch 25/150\n",
            "70/70 [==============================] - 0s 2ms/step - loss: 0.5573 - accuracy: 0.7043 - val_loss: 0.5009 - val_accuracy: 0.7290\n",
            "Epoch 26/150\n",
            "70/70 [==============================] - 0s 2ms/step - loss: 0.5564 - accuracy: 0.7043 - val_loss: 0.5146 - val_accuracy: 0.7419\n",
            "Epoch 27/150\n",
            "70/70 [==============================] - 0s 2ms/step - loss: 0.5599 - accuracy: 0.7031 - val_loss: 0.5054 - val_accuracy: 0.7484\n",
            "Epoch 28/150\n",
            "70/70 [==============================] - 0s 2ms/step - loss: 0.5580 - accuracy: 0.6991 - val_loss: 0.4991 - val_accuracy: 0.7484\n",
            "Epoch 29/150\n",
            "70/70 [==============================] - 0s 2ms/step - loss: 0.5528 - accuracy: 0.7083 - val_loss: 0.5335 - val_accuracy: 0.7226\n",
            "Epoch 30/150\n",
            "70/70 [==============================] - 0s 2ms/step - loss: 0.5728 - accuracy: 0.6812 - val_loss: 0.4913 - val_accuracy: 0.7419\n",
            "Epoch 31/150\n",
            "70/70 [==============================] - 0s 2ms/step - loss: 0.5547 - accuracy: 0.7037 - val_loss: 0.4967 - val_accuracy: 0.7419\n",
            "Epoch 32/150\n",
            "70/70 [==============================] - 0s 3ms/step - loss: 0.5528 - accuracy: 0.7071 - val_loss: 0.4968 - val_accuracy: 0.7613\n",
            "Epoch 33/150\n",
            "70/70 [==============================] - 0s 2ms/step - loss: 0.5557 - accuracy: 0.7002 - val_loss: 0.4933 - val_accuracy: 0.7355\n",
            "Epoch 34/150\n",
            "70/70 [==============================] - 0s 3ms/step - loss: 0.5701 - accuracy: 0.6904 - val_loss: 0.5185 - val_accuracy: 0.7419\n",
            "Epoch 35/150\n",
            "70/70 [==============================] - 0s 2ms/step - loss: 0.5536 - accuracy: 0.7094 - val_loss: 0.5143 - val_accuracy: 0.7355\n",
            "Epoch 36/150\n",
            "70/70 [==============================] - 0s 2ms/step - loss: 0.5676 - accuracy: 0.7002 - val_loss: 0.5075 - val_accuracy: 0.7548\n",
            "Epoch 37/150\n",
            "70/70 [==============================] - 0s 2ms/step - loss: 0.5559 - accuracy: 0.7123 - val_loss: 0.5006 - val_accuracy: 0.7484\n",
            "Epoch 38/150\n",
            "70/70 [==============================] - 0s 3ms/step - loss: 0.5462 - accuracy: 0.7146 - val_loss: 0.4859 - val_accuracy: 0.7355\n",
            "Epoch 39/150\n",
            "70/70 [==============================] - 0s 2ms/step - loss: 0.5544 - accuracy: 0.7043 - val_loss: 0.4935 - val_accuracy: 0.7355\n",
            "Epoch 40/150\n",
            "70/70 [==============================] - 0s 2ms/step - loss: 0.5530 - accuracy: 0.7089 - val_loss: 0.4840 - val_accuracy: 0.7613\n",
            "Epoch 41/150\n",
            "70/70 [==============================] - 0s 2ms/step - loss: 0.5432 - accuracy: 0.7135 - val_loss: 0.5050 - val_accuracy: 0.7548\n",
            "Epoch 42/150\n",
            "70/70 [==============================] - 0s 3ms/step - loss: 0.5474 - accuracy: 0.7158 - val_loss: 0.5141 - val_accuracy: 0.7419\n",
            "Epoch 43/150\n",
            "70/70 [==============================] - 0s 2ms/step - loss: 0.5478 - accuracy: 0.7031 - val_loss: 0.4949 - val_accuracy: 0.7677\n",
            "Epoch 44/150\n",
            "70/70 [==============================] - 0s 2ms/step - loss: 0.5548 - accuracy: 0.6985 - val_loss: 0.5387 - val_accuracy: 0.7226\n",
            "Epoch 45/150\n",
            "70/70 [==============================] - 0s 2ms/step - loss: 0.5537 - accuracy: 0.7048 - val_loss: 0.4864 - val_accuracy: 0.7484\n",
            "Epoch 46/150\n",
            "70/70 [==============================] - 0s 2ms/step - loss: 0.5483 - accuracy: 0.7089 - val_loss: 0.4891 - val_accuracy: 0.7419\n",
            "Epoch 47/150\n",
            "70/70 [==============================] - 0s 2ms/step - loss: 0.5457 - accuracy: 0.7181 - val_loss: 0.4912 - val_accuracy: 0.7484\n",
            "Epoch 48/150\n",
            "70/70 [==============================] - 0s 3ms/step - loss: 0.5486 - accuracy: 0.7014 - val_loss: 0.4863 - val_accuracy: 0.7677\n",
            "Epoch 49/150\n",
            "70/70 [==============================] - 0s 2ms/step - loss: 0.5425 - accuracy: 0.7140 - val_loss: 0.4947 - val_accuracy: 0.7484\n",
            "Epoch 50/150\n",
            "70/70 [==============================] - 0s 2ms/step - loss: 0.5512 - accuracy: 0.7066 - val_loss: 0.4904 - val_accuracy: 0.7290\n",
            "Epoch 51/150\n",
            "70/70 [==============================] - 0s 2ms/step - loss: 0.5467 - accuracy: 0.7146 - val_loss: 0.4936 - val_accuracy: 0.7548\n",
            "Epoch 52/150\n",
            "70/70 [==============================] - 0s 2ms/step - loss: 0.5432 - accuracy: 0.7135 - val_loss: 0.4851 - val_accuracy: 0.7742\n",
            "Epoch 53/150\n",
            "70/70 [==============================] - 0s 2ms/step - loss: 0.5433 - accuracy: 0.7152 - val_loss: 0.4811 - val_accuracy: 0.7548\n",
            "Epoch 54/150\n",
            "70/70 [==============================] - 0s 2ms/step - loss: 0.5550 - accuracy: 0.6910 - val_loss: 0.5066 - val_accuracy: 0.7484\n",
            "Epoch 55/150\n",
            "70/70 [==============================] - 0s 3ms/step - loss: 0.5448 - accuracy: 0.7077 - val_loss: 0.4843 - val_accuracy: 0.7548\n",
            "Epoch 56/150\n",
            "70/70 [==============================] - 0s 2ms/step - loss: 0.5458 - accuracy: 0.7048 - val_loss: 0.4828 - val_accuracy: 0.7355\n",
            "Epoch 57/150\n",
            "70/70 [==============================] - 0s 2ms/step - loss: 0.5521 - accuracy: 0.7129 - val_loss: 0.4992 - val_accuracy: 0.7355\n",
            "Epoch 58/150\n",
            "70/70 [==============================] - 0s 3ms/step - loss: 0.5453 - accuracy: 0.7083 - val_loss: 0.4900 - val_accuracy: 0.7484\n",
            "Epoch 59/150\n",
            "70/70 [==============================] - 0s 2ms/step - loss: 0.5472 - accuracy: 0.7135 - val_loss: 0.4933 - val_accuracy: 0.7548\n",
            "Epoch 60/150\n",
            "70/70 [==============================] - 0s 2ms/step - loss: 0.5571 - accuracy: 0.7077 - val_loss: 0.5040 - val_accuracy: 0.7613\n",
            "Epoch 61/150\n",
            "70/70 [==============================] - 0s 2ms/step - loss: 0.5458 - accuracy: 0.7169 - val_loss: 0.4851 - val_accuracy: 0.7613\n",
            "Epoch 62/150\n",
            "70/70 [==============================] - 0s 2ms/step - loss: 0.5430 - accuracy: 0.7158 - val_loss: 0.4843 - val_accuracy: 0.7871\n",
            "Epoch 63/150\n",
            "70/70 [==============================] - 0s 2ms/step - loss: 0.5507 - accuracy: 0.7089 - val_loss: 0.4905 - val_accuracy: 0.7548\n",
            "Epoch 64/150\n",
            "70/70 [==============================] - 0s 3ms/step - loss: 0.5419 - accuracy: 0.7169 - val_loss: 0.5046 - val_accuracy: 0.7484\n",
            "Epoch 65/150\n",
            "70/70 [==============================] - 0s 2ms/step - loss: 0.5468 - accuracy: 0.7129 - val_loss: 0.4814 - val_accuracy: 0.7806\n",
            "Epoch 66/150\n",
            "70/70 [==============================] - 0s 2ms/step - loss: 0.5504 - accuracy: 0.7100 - val_loss: 0.4951 - val_accuracy: 0.7419\n",
            "Epoch 67/150\n",
            "70/70 [==============================] - 0s 3ms/step - loss: 0.5471 - accuracy: 0.7123 - val_loss: 0.5080 - val_accuracy: 0.7355\n",
            "Epoch 68/150\n",
            "70/70 [==============================] - 0s 2ms/step - loss: 0.5510 - accuracy: 0.7094 - val_loss: 0.4997 - val_accuracy: 0.7484\n",
            "Epoch 69/150\n",
            "70/70 [==============================] - 0s 3ms/step - loss: 0.5398 - accuracy: 0.7140 - val_loss: 0.4802 - val_accuracy: 0.7806\n",
            "Epoch 70/150\n",
            "70/70 [==============================] - 0s 2ms/step - loss: 0.5403 - accuracy: 0.7169 - val_loss: 0.4834 - val_accuracy: 0.7677\n",
            "Epoch 71/150\n",
            "70/70 [==============================] - 0s 2ms/step - loss: 0.5459 - accuracy: 0.7106 - val_loss: 0.4853 - val_accuracy: 0.7677\n",
            "Epoch 72/150\n",
            "70/70 [==============================] - 0s 2ms/step - loss: 0.5502 - accuracy: 0.7094 - val_loss: 0.5137 - val_accuracy: 0.7226\n",
            "Epoch 73/150\n",
            "70/70 [==============================] - 0s 3ms/step - loss: 0.5404 - accuracy: 0.7215 - val_loss: 0.4795 - val_accuracy: 0.7613\n",
            "Epoch 74/150\n",
            "70/70 [==============================] - 0s 2ms/step - loss: 0.5369 - accuracy: 0.7198 - val_loss: 0.4763 - val_accuracy: 0.7613\n",
            "Epoch 75/150\n",
            "70/70 [==============================] - 0s 3ms/step - loss: 0.5454 - accuracy: 0.7215 - val_loss: 0.4946 - val_accuracy: 0.7548\n",
            "Epoch 76/150\n",
            "70/70 [==============================] - 0s 2ms/step - loss: 0.5399 - accuracy: 0.7169 - val_loss: 0.4812 - val_accuracy: 0.7806\n",
            "Epoch 77/150\n",
            "70/70 [==============================] - 0s 2ms/step - loss: 0.5348 - accuracy: 0.7221 - val_loss: 0.4875 - val_accuracy: 0.7548\n",
            "Epoch 78/150\n",
            "70/70 [==============================] - 0s 2ms/step - loss: 0.5410 - accuracy: 0.7066 - val_loss: 0.4762 - val_accuracy: 0.7742\n",
            "Epoch 79/150\n",
            "70/70 [==============================] - 0s 3ms/step - loss: 0.5362 - accuracy: 0.7244 - val_loss: 0.5048 - val_accuracy: 0.7355\n",
            "Epoch 80/150\n",
            "70/70 [==============================] - 0s 2ms/step - loss: 0.5457 - accuracy: 0.7123 - val_loss: 0.4848 - val_accuracy: 0.7677\n",
            "Epoch 81/150\n",
            "70/70 [==============================] - 0s 2ms/step - loss: 0.5360 - accuracy: 0.7198 - val_loss: 0.4790 - val_accuracy: 0.7742\n",
            "Epoch 82/150\n",
            "70/70 [==============================] - 0s 2ms/step - loss: 0.5380 - accuracy: 0.7209 - val_loss: 0.4773 - val_accuracy: 0.7742\n",
            "Epoch 83/150\n",
            "70/70 [==============================] - 0s 2ms/step - loss: 0.5375 - accuracy: 0.7244 - val_loss: 0.4823 - val_accuracy: 0.7548\n",
            "Epoch 84/150\n",
            "70/70 [==============================] - 0s 2ms/step - loss: 0.5469 - accuracy: 0.7135 - val_loss: 0.4894 - val_accuracy: 0.7548\n",
            "Epoch 85/150\n",
            "70/70 [==============================] - 0s 2ms/step - loss: 0.5359 - accuracy: 0.7169 - val_loss: 0.4847 - val_accuracy: 0.7548\n",
            "Epoch 86/150\n",
            "70/70 [==============================] - 0s 3ms/step - loss: 0.5369 - accuracy: 0.7192 - val_loss: 0.4903 - val_accuracy: 0.7548\n",
            "Epoch 87/150\n",
            "70/70 [==============================] - 0s 2ms/step - loss: 0.5376 - accuracy: 0.7094 - val_loss: 0.4961 - val_accuracy: 0.7484\n",
            "Epoch 88/150\n",
            "70/70 [==============================] - 0s 2ms/step - loss: 0.5451 - accuracy: 0.7077 - val_loss: 0.4890 - val_accuracy: 0.7677\n",
            "Epoch 89/150\n",
            "70/70 [==============================] - 0s 2ms/step - loss: 0.5420 - accuracy: 0.7123 - val_loss: 0.5075 - val_accuracy: 0.7290\n",
            "Epoch 90/150\n",
            "70/70 [==============================] - 0s 2ms/step - loss: 0.5391 - accuracy: 0.7198 - val_loss: 0.4850 - val_accuracy: 0.7613\n",
            "Epoch 91/150\n",
            "70/70 [==============================] - 0s 2ms/step - loss: 0.5352 - accuracy: 0.7209 - val_loss: 0.4782 - val_accuracy: 0.7613\n",
            "Epoch 92/150\n",
            "70/70 [==============================] - 0s 2ms/step - loss: 0.5359 - accuracy: 0.7227 - val_loss: 0.4859 - val_accuracy: 0.7806\n",
            "Epoch 93/150\n",
            "70/70 [==============================] - 0s 2ms/step - loss: 0.5393 - accuracy: 0.7209 - val_loss: 0.4897 - val_accuracy: 0.7419\n",
            "Epoch 94/150\n",
            "70/70 [==============================] - 0s 2ms/step - loss: 0.5363 - accuracy: 0.7296 - val_loss: 0.4779 - val_accuracy: 0.7806\n",
            "Epoch 95/150\n",
            "70/70 [==============================] - 0s 3ms/step - loss: 0.5337 - accuracy: 0.7163 - val_loss: 0.4744 - val_accuracy: 0.7871\n",
            "Epoch 96/150\n",
            "70/70 [==============================] - 0s 2ms/step - loss: 0.5324 - accuracy: 0.7353 - val_loss: 0.4746 - val_accuracy: 0.7677\n",
            "Epoch 97/150\n",
            "70/70 [==============================] - 0s 3ms/step - loss: 0.5374 - accuracy: 0.7175 - val_loss: 0.4755 - val_accuracy: 0.7613\n",
            "Epoch 98/150\n",
            "70/70 [==============================] - 0s 2ms/step - loss: 0.5353 - accuracy: 0.7244 - val_loss: 0.4869 - val_accuracy: 0.7548\n",
            "Epoch 99/150\n",
            "70/70 [==============================] - 0s 2ms/step - loss: 0.5338 - accuracy: 0.7261 - val_loss: 0.4820 - val_accuracy: 0.7484\n",
            "Epoch 100/150\n",
            "70/70 [==============================] - 0s 2ms/step - loss: 0.5332 - accuracy: 0.7175 - val_loss: 0.4765 - val_accuracy: 0.7742\n",
            "Epoch 101/150\n",
            "70/70 [==============================] - 0s 2ms/step - loss: 0.5454 - accuracy: 0.7135 - val_loss: 0.4814 - val_accuracy: 0.7613\n",
            "Epoch 102/150\n",
            "70/70 [==============================] - 0s 2ms/step - loss: 0.5378 - accuracy: 0.7290 - val_loss: 0.4916 - val_accuracy: 0.7548\n",
            "Epoch 103/150\n",
            "70/70 [==============================] - 0s 2ms/step - loss: 0.5391 - accuracy: 0.7204 - val_loss: 0.5154 - val_accuracy: 0.7355\n",
            "Epoch 104/150\n",
            "70/70 [==============================] - 0s 3ms/step - loss: 0.5438 - accuracy: 0.7244 - val_loss: 0.4950 - val_accuracy: 0.7355\n",
            "Epoch 105/150\n",
            "70/70 [==============================] - 0s 2ms/step - loss: 0.5307 - accuracy: 0.7273 - val_loss: 0.4730 - val_accuracy: 0.7742\n",
            "Epoch 106/150\n",
            "70/70 [==============================] - 0s 2ms/step - loss: 0.5398 - accuracy: 0.7198 - val_loss: 0.4896 - val_accuracy: 0.7484\n",
            "Epoch 107/150\n",
            "70/70 [==============================] - 0s 2ms/step - loss: 0.5411 - accuracy: 0.7146 - val_loss: 0.4833 - val_accuracy: 0.7613\n",
            "Epoch 108/150\n",
            "70/70 [==============================] - 0s 2ms/step - loss: 0.5406 - accuracy: 0.7106 - val_loss: 0.4836 - val_accuracy: 0.7548\n",
            "Epoch 109/150\n",
            "70/70 [==============================] - 0s 3ms/step - loss: 0.5326 - accuracy: 0.7227 - val_loss: 0.4788 - val_accuracy: 0.7871\n",
            "Epoch 110/150\n",
            "70/70 [==============================] - 0s 2ms/step - loss: 0.5389 - accuracy: 0.7192 - val_loss: 0.4972 - val_accuracy: 0.7355\n",
            "Epoch 111/150\n",
            "70/70 [==============================] - 0s 2ms/step - loss: 0.5479 - accuracy: 0.7146 - val_loss: 0.4761 - val_accuracy: 0.7806\n",
            "Epoch 112/150\n",
            "70/70 [==============================] - 0s 2ms/step - loss: 0.5361 - accuracy: 0.7215 - val_loss: 0.4729 - val_accuracy: 0.7935\n",
            "Epoch 113/150\n",
            "70/70 [==============================] - 0s 3ms/step - loss: 0.5311 - accuracy: 0.7255 - val_loss: 0.4754 - val_accuracy: 0.7806\n",
            "Epoch 114/150\n",
            "70/70 [==============================] - 0s 2ms/step - loss: 0.5391 - accuracy: 0.7209 - val_loss: 0.4759 - val_accuracy: 0.7806\n",
            "Epoch 115/150\n",
            "70/70 [==============================] - 0s 3ms/step - loss: 0.5383 - accuracy: 0.7244 - val_loss: 0.4779 - val_accuracy: 0.7742\n",
            "Epoch 116/150\n",
            "70/70 [==============================] - 0s 2ms/step - loss: 0.5326 - accuracy: 0.7284 - val_loss: 0.4844 - val_accuracy: 0.7613\n",
            "Epoch 117/150\n",
            "70/70 [==============================] - 0s 2ms/step - loss: 0.5406 - accuracy: 0.7186 - val_loss: 0.4908 - val_accuracy: 0.7484\n",
            "Epoch 118/150\n",
            "70/70 [==============================] - 0s 2ms/step - loss: 0.5255 - accuracy: 0.7307 - val_loss: 0.5041 - val_accuracy: 0.7419\n",
            "Epoch 119/150\n",
            "70/70 [==============================] - 0s 3ms/step - loss: 0.5376 - accuracy: 0.7152 - val_loss: 0.4917 - val_accuracy: 0.7484\n",
            "Epoch 120/150\n",
            "70/70 [==============================] - 0s 2ms/step - loss: 0.5452 - accuracy: 0.7106 - val_loss: 0.4763 - val_accuracy: 0.7935\n",
            "Epoch 121/150\n",
            "70/70 [==============================] - 0s 3ms/step - loss: 0.5312 - accuracy: 0.7238 - val_loss: 0.5073 - val_accuracy: 0.7484\n",
            "Epoch 122/150\n",
            "70/70 [==============================] - 0s 2ms/step - loss: 0.5335 - accuracy: 0.7221 - val_loss: 0.4682 - val_accuracy: 0.7935\n",
            "Epoch 123/150\n",
            "70/70 [==============================] - 0s 3ms/step - loss: 0.5276 - accuracy: 0.7244 - val_loss: 0.4860 - val_accuracy: 0.7484\n",
            "Epoch 124/150\n",
            "70/70 [==============================] - 0s 3ms/step - loss: 0.5311 - accuracy: 0.7244 - val_loss: 0.4715 - val_accuracy: 0.7806\n",
            "Epoch 125/150\n",
            "70/70 [==============================] - 0s 2ms/step - loss: 0.5301 - accuracy: 0.7232 - val_loss: 0.4693 - val_accuracy: 0.7806\n",
            "Epoch 126/150\n",
            "70/70 [==============================] - 0s 2ms/step - loss: 0.5326 - accuracy: 0.7221 - val_loss: 0.5144 - val_accuracy: 0.7355\n",
            "Epoch 127/150\n",
            "70/70 [==============================] - 0s 2ms/step - loss: 0.5323 - accuracy: 0.7192 - val_loss: 0.4713 - val_accuracy: 0.7677\n",
            "Epoch 128/150\n",
            "70/70 [==============================] - 0s 3ms/step - loss: 0.5320 - accuracy: 0.7261 - val_loss: 0.4686 - val_accuracy: 0.7871\n",
            "Epoch 129/150\n",
            "70/70 [==============================] - 0s 3ms/step - loss: 0.5313 - accuracy: 0.7244 - val_loss: 0.4747 - val_accuracy: 0.7677\n",
            "Epoch 130/150\n",
            "70/70 [==============================] - 0s 2ms/step - loss: 0.5252 - accuracy: 0.7261 - val_loss: 0.4644 - val_accuracy: 0.8000\n",
            "Epoch 131/150\n",
            "70/70 [==============================] - 0s 2ms/step - loss: 0.5340 - accuracy: 0.7238 - val_loss: 0.5035 - val_accuracy: 0.7290\n",
            "Epoch 132/150\n",
            "70/70 [==============================] - 0s 3ms/step - loss: 0.5353 - accuracy: 0.7204 - val_loss: 0.4788 - val_accuracy: 0.7484\n",
            "Epoch 133/150\n",
            "70/70 [==============================] - 0s 2ms/step - loss: 0.5275 - accuracy: 0.7267 - val_loss: 0.4710 - val_accuracy: 0.7548\n",
            "Epoch 134/150\n",
            "70/70 [==============================] - 0s 2ms/step - loss: 0.5284 - accuracy: 0.7227 - val_loss: 0.4869 - val_accuracy: 0.7484\n",
            "Epoch 135/150\n",
            "70/70 [==============================] - 0s 2ms/step - loss: 0.5363 - accuracy: 0.7169 - val_loss: 0.4726 - val_accuracy: 0.7871\n",
            "Epoch 136/150\n",
            "70/70 [==============================] - 0s 2ms/step - loss: 0.5245 - accuracy: 0.7319 - val_loss: 0.4716 - val_accuracy: 0.7935\n",
            "Epoch 137/150\n",
            "70/70 [==============================] - 0s 3ms/step - loss: 0.5288 - accuracy: 0.7319 - val_loss: 0.4941 - val_accuracy: 0.7355\n",
            "Epoch 138/150\n",
            "70/70 [==============================] - 0s 3ms/step - loss: 0.5233 - accuracy: 0.7382 - val_loss: 0.4677 - val_accuracy: 0.7742\n",
            "Epoch 139/150\n",
            "70/70 [==============================] - 0s 2ms/step - loss: 0.5279 - accuracy: 0.7221 - val_loss: 0.4698 - val_accuracy: 0.7871\n",
            "Epoch 140/150\n",
            "70/70 [==============================] - 0s 3ms/step - loss: 0.5233 - accuracy: 0.7261 - val_loss: 0.4722 - val_accuracy: 0.7742\n",
            "Epoch 141/150\n",
            "70/70 [==============================] - 0s 3ms/step - loss: 0.5295 - accuracy: 0.7273 - val_loss: 0.4641 - val_accuracy: 0.7871\n",
            "Epoch 142/150\n",
            "70/70 [==============================] - 0s 2ms/step - loss: 0.5251 - accuracy: 0.7313 - val_loss: 0.4767 - val_accuracy: 0.7742\n",
            "Epoch 143/150\n",
            "70/70 [==============================] - 0s 2ms/step - loss: 0.5254 - accuracy: 0.7284 - val_loss: 0.4764 - val_accuracy: 0.7742\n",
            "Epoch 144/150\n",
            "70/70 [==============================] - 0s 2ms/step - loss: 0.5333 - accuracy: 0.7244 - val_loss: 0.4673 - val_accuracy: 0.7935\n",
            "Epoch 145/150\n",
            "70/70 [==============================] - 0s 2ms/step - loss: 0.5198 - accuracy: 0.7261 - val_loss: 0.4698 - val_accuracy: 0.7871\n",
            "Epoch 146/150\n",
            "70/70 [==============================] - 0s 2ms/step - loss: 0.5355 - accuracy: 0.7181 - val_loss: 0.4764 - val_accuracy: 0.7871\n",
            "Epoch 147/150\n",
            "70/70 [==============================] - 0s 2ms/step - loss: 0.5321 - accuracy: 0.7204 - val_loss: 0.4636 - val_accuracy: 0.7871\n",
            "Epoch 148/150\n",
            "70/70 [==============================] - 0s 3ms/step - loss: 0.5235 - accuracy: 0.7290 - val_loss: 0.4729 - val_accuracy: 0.7419\n",
            "Epoch 149/150\n",
            "70/70 [==============================] - 0s 2ms/step - loss: 0.5212 - accuracy: 0.7307 - val_loss: 0.4641 - val_accuracy: 0.7935\n",
            "Epoch 150/150\n",
            "70/70 [==============================] - 0s 3ms/step - loss: 0.5223 - accuracy: 0.7273 - val_loss: 0.4629 - val_accuracy: 0.7871\n"
          ]
        }
      ],
      "source": [
        "# TRAINING THE MODEL\n",
        "history=model.fit(X_train, Y_train, validation_data=(X_val, Y_val),epochs=150, batch_size=25)"
      ]
    },
    {
      "cell_type": "code",
      "execution_count": 24,
      "metadata": {
        "colab": {
          "base_uri": "https://localhost:8080/",
          "height": 295
        },
        "id": "dRy8807HxZ6s",
        "outputId": "f6b85c10-8d6d-46ef-8740-910db1bcccec"
      },
      "outputs": [
        {
          "output_type": "display_data",
          "data": {
            "text/plain": [
              "<Figure size 432x288 with 1 Axes>"
            ],
            "image/png": "[encoded data removed]"
          },
          "metadata": {
            "needs_background": "light"
          }
        }
      ],
      "source": [
        "# PLOT FOR MODEL ACCURACY\n",
        "plt.plot(history.history['accuracy'])\n",
        "plt.plot(history.history['val_accuracy'])\n",
        "plt.title('Model Accuracy')\n",
        "plt.ylabel('accuracy')\n",
        "plt.xlabel('epoch')\n",
        "plt.legend(['train', 'val'])\n",
        "plt.show()"
      ]
    },
    {
      "cell_type": "code",
      "execution_count": 25,
      "metadata": {
        "colab": {
          "base_uri": "https://localhost:8080/",
          "height": 295
        },
        "id": "_48Qi1QLyfII",
        "outputId": "848e1fc6-e3c6-4632-b807-c4f29884ad94"
      },
      "outputs": [
        {
          "output_type": "display_data",
          "data": {
            "text/plain": [
              "<Figure size 432x288 with 1 Axes>"
            ],
            "image/png": "[encoded data removed]"
          },
          "metadata": {
            "needs_background": "light"
          }
        }
      ],
      "source": [
        "# PLOT FOR MODEL LOSS\n",
        "plt.plot(history.history['loss'])\n",
        "plt.plot(history.history['val_loss'])\n",
        "plt.title('Model Loss')\n",
        "plt.ylabel('loss')\n",
        "plt.xlabel('epoch')\n",
        "plt.legend(['train', 'val'])\n",
        "plt.show()"
      ]
    },
    {
      "cell_type": "code",
      "execution_count": 26,
      "metadata": {
        "id": "mlUOV0aiymP_"
      },
      "outputs": [],
      "source": [
        "# TESTING PREDICTION\n",
        "prediksi = ([0,48,15.05,99]),\n",
        "        "
      ]
    },
    {
      "cell_type": "code",
      "execution_count": 27,
      "metadata": {
        "colab": {
          "base_uri": "https://localhost:8080/"
        },
        "id": "qYJGWrwF1y-C",
        "outputId": "2ceabd19-92be-450d-bbfa-29bfcb230bfb"
      },
      "outputs": [
        {
          "output_type": "execute_result",
          "data": {
            "text/plain": [
              "array([[1.000000e+00, 8.738351e-21]], dtype=float32)"
            ]
          },
          "metadata": {},
          "execution_count": 27
        }
      ],
      "source": [
        "# RESULT FOR PREDICTION\n",
        "model.predict(prediksi)"
      ]
    },
    {
      "cell_type": "code",
      "source": [
        "# Build Function for Detection early stunting\n",
        "\n",
        "def detection():\n",
        "  Name = input(\"Masukan Nama Anak Anda:\",)\n",
        "  Age = int(input(\"Berapa bulan umur anak Anda (dari 0 - 59 Bulan):\",))\n",
        "  Jenis_Kelamin = int(input(\"Jenis Kelamin Anak Anda (0: perempuan, 1: Laki-Laki):\",))\n",
        "  Tinggi_Badan = int(input(\"Berapa tinggi badan Anak Anda(satuan cm):\",))\n",
        "  Berat_Badan = int(input(\"Berapa berat badan Anak Anda (satuan kg):\",))\n",
        "\n",
        "  data = ([Jenis_Kelamin, Age, Tinggi_Badan, Berat_Badan]),\n",
        "  deteksi = model.predict(data)\n",
        "  print(deteksi)\n",
        "  print(\"\\n\")\n",
        "  if deteksi[0][0] > deteksi[0][1]:\n",
        "    print(Name + \" terdeteksi Stunting\")\n",
        "  else:\n",
        "    print(Name + \" terdeteksi Normal\")\n",
        "  \n",
        "\n",
        "detection()"
      ],
      "metadata": {
        "colab": {
          "base_uri": "https://localhost:8080/"
        },
        "id": "w0dD4UYibJYb",
        "outputId": "74e2b066-d3b8-4aea-f024-aa0031acb13f"
      },
      "execution_count": 28,
      "outputs": [
        {
          "output_type": "stream",
          "name": "stdout",
          "text": [
            "Masukan Nama Anak Anda:Mila\n",
            "Berapa bulan umur anak Anda (dari 0 - 59 Bulan):34\n",
            "Jenis Kelamin Anak Anda (0: perempuan, 1: Laki-Laki):0\n",
            "Berapa tinggi badan Anak Anda(satuan cm):121\n",
            "Berapa berat badan Anak Anda (satuan kg):21\n",
            "[[1.0000000e+00 1.7847421e-21]]\n",
            "\n",
            "\n",
            "Mila terdeteksi Stunting\n"
          ]
        }
      ]
    },
    {
      "cell_type": "code",
      "execution_count": 29,
      "metadata": {
        "colab": {
          "base_uri": "https://localhost:8080/"
        },
        "id": "xCFWoehJyC8w",
        "outputId": "b848eb9a-4df0-4611-f5cd-e508e903db99"
      },
      "outputs": [
        {
          "output_type": "stream",
          "name": "stdout",
          "text": [
            "[1 0 1 0 1 1 1 1 1 0 0 1 1 1 1 0 1 1 1 1 1 1 1 0 1 1 1 1 0 0 1 1 0 0 1 0 1\n",
            " 0 1]\n",
            "[1 0 0 0 1 1 0 1 1 0 0 0 0 0 0 1 1 1 1 1 1 1 0 1 0 1 0 1 0 0 1 1 0 0 1 0 1\n",
            " 0 1]\n"
          ]
        }
      ],
      "source": [
        "# TESTING PREDICT\n",
        "y_pred = model.predict(X_test)\n",
        "y_pred = np.argmax(y_pred, axis=1)\n",
        "print(y_pred)\n",
        "y_true = np.argmax(Y_test, axis = 1)\n",
        "print(y_true)"
      ]
    },
    {
      "cell_type": "code",
      "execution_count": 30,
      "metadata": {
        "colab": {
          "base_uri": "https://localhost:8080/"
        },
        "id": "X_uXvQya3lcW",
        "outputId": "f31a4ee7-a21f-40b3-e80a-062f515b2a23"
      },
      "outputs": [
        {
          "output_type": "stream",
          "name": "stdout",
          "text": [
            "[[10  9]\n",
            " [ 2 18]]\n"
          ]
        }
      ],
      "source": [
        "# MAKING CONFUSSION MATRIX\n",
        "\n",
        "conf_matrix = confusion_matrix(y_true=y_true, y_pred=y_pred)\n",
        "print(conf_matrix)"
      ]
    },
    {
      "cell_type": "code",
      "execution_count": 31,
      "metadata": {
        "colab": {
          "base_uri": "https://localhost:8080/",
          "height": 432
        },
        "id": "Ku-mF5xXxc0l",
        "outputId": "93e29ad9-bf49-4828-a2c1-4805bb80f349"
      },
      "outputs": [
        {
          "output_type": "display_data",
          "data": {
            "text/plain": [
              "<Figure size 432x432 with 1 Axes>"
            ],
            "image/png": "[encoded data removed]"
          },
          "metadata": {
            "needs_background": "light"
          }
        }
      ],
      "source": [
        "# VISUALIZE CONFUSION MATRIX\n",
        "fig, ax = plot_confusion_matrix(conf_mat=conf_matrix, figsize=(6, 6), cmap=plt.cm.Greens)\n",
        "plt.xlabel('Predictions', fontsize=18)\n",
        "plt.ylabel('Actuals', fontsize=18)\n",
        "plt.title('Confusion Matrix', fontsize=18)\n",
        "plt.show()"
      ]
    },
    {
      "cell_type": "code",
      "execution_count": 32,
      "metadata": {
        "colab": {
          "base_uri": "https://localhost:8080/"
        },
        "id": "MsAEHCEIhev9",
        "outputId": "b7e839f2-4515-4696-d745-c2bbd22936f4"
      },
      "outputs": [
        {
          "output_type": "execute_result",
          "data": {
            "text/plain": [
              "0.8141148488327448"
            ]
          },
          "metadata": {},
          "execution_count": 32
        }
      ],
      "source": [
        "# CALCULATE AVERAGE PRECISION SCORE\n",
        "\n",
        "predictions = model.predict(X_val)\n",
        "\n",
        "average_precision_score(Y_val, predictions)"
      ]
    },
    {
      "cell_type": "code",
      "execution_count": 33,
      "metadata": {
        "colab": {
          "base_uri": "https://localhost:8080/"
        },
        "id": "72WM7Bo37S2h",
        "outputId": "03e1a725-1ff5-41ef-b93d-c0a279f67e4b"
      },
      "outputs": [
        {
          "output_type": "stream",
          "name": "stdout",
          "text": [
            "[1 0 0 0 0 1 1 0 0 0 1 1 1 1 0 0 1 0 0 1 0 0 1 0 1 1 0 1 1 0 1 0 0 1 0 1 0\n",
            " 1 0 1 1 1 1 1 0 1 1 1 1 1 0 1 1 0 1 1 1 0 0 1 1 0 0 1 1 0 0 1 1 1 0 1 1 1\n",
            " 0 0 1 1 0 0 0 0 0 0 1 0 0 1 1 1 0 1 1 0 0 1 0 1 1 0 1 0 1 1 1 0 1 0 1 1 0\n",
            " 0 1 1 1 0 1 1 0 0 0 1 0 1 1 1 0 1 1 0 1 0 0 0 0 1 1 1 0 1 1 0 0 0 0 1 0 1\n",
            " 0 0 0 0 0 0 0]\n",
            "[1 1 0 0 0 1 1 0 0 1 1 1 1 0 0 0 1 1 0 1 1 0 1 0 1 0 0 1 1 0 1 0 1 0 0 1 1\n",
            " 1 0 1 1 1 0 1 0 1 1 1 1 1 1 1 1 1 1 1 1 1 0 1 1 0 1 1 1 0 1 1 1 1 1 1 1 1\n",
            " 0 0 1 1 0 0 0 1 1 0 1 0 0 1 1 1 1 1 0 1 0 1 1 1 1 0 1 0 1 1 1 0 1 0 1 1 0\n",
            " 1 1 1 1 0 1 1 0 0 0 1 0 1 1 1 0 1 1 1 1 0 0 0 1 1 1 1 0 1 1 0 1 0 0 1 1 1\n",
            " 1 1 0 1 1 1 1]\n",
            "              precision    recall  f1-score   support\n",
            "\n",
            "           0       0.90      0.63      0.74        75\n",
            "           1       0.73      0.94      0.82        80\n",
            "\n",
            "    accuracy                           0.79       155\n",
            "   macro avg       0.82      0.78      0.78       155\n",
            "weighted avg       0.81      0.79      0.78       155\n",
            "\n"
          ]
        }
      ],
      "source": [
        "Y_val_true = np.argmax(Y_val, axis = 1)\n",
        "print(Y_val_true)\n",
        "predicts = np.argmax(predictions, axis = 1)\n",
        "print(predicts)\n",
        "report = classification_report(Y_val_true, predicts)\n",
        "print(report)"
      ]
    },
    {
      "cell_type": "code",
      "execution_count": null,
      "metadata": {
        "id": "oomW_W6ZKh0_"
      },
      "outputs": [],
      "source": [
        "# Saving model\n",
        "# Calling `save('my_model.h5')` creates a h5 file `my_model.h5`.\n",
        "model.save(\"my_h5_model.h5\")\n",
        "\n",
        "# It can be used to reconstruct the model identically.\n",
        "reconstructed_model = keras.models.load_model(\"my_h5_model.h5\")"
      ]
    },
    {
      "cell_type": "code",
      "source": [
        "model.save('my_model')"
      ],
      "metadata": {
        "colab": {
          "base_uri": "https://localhost:8080/"
        },
        "id": "_lRyTwvfaVxl",
        "outputId": "ab9e0659-1bb2-4de7-96c4-ee0b0244dc01"
      },
      "execution_count": 34,
      "outputs": [
        {
          "output_type": "stream",
          "name": "stdout",
          "text": [
            "INFO:tensorflow:Assets written to: my_model/assets\n"
          ]
        }
      ]
    },
    {
      "cell_type": "code",
      "source": [
        "!zip -r /content/my_model.zip /content/my_model \n",
        "files.download('/content/my_model.zip')"
      ],
      "metadata": {
        "id": "PVN1zEb9ffmG",
        "outputId": "05812ee5-ce5b-4b6e-b1df-21626086085b",
        "colab": {
          "base_uri": "https://localhost:8080/",
          "height": 138
        }
      },
      "execution_count": 35,
      "outputs": [
        {
          "output_type": "stream",
          "name": "stdout",
          "text": [
            "  adding: content/my_model/ (stored 0%)\n",
            "  adding: content/my_model/keras_metadata.pb (deflated 90%)\n",
            "  adding: content/my_model/saved_model.pb (deflated 89%)\n",
            "  adding: content/my_model/assets/ (stored 0%)\n",
            "  adding: content/my_model/variables/ (stored 0%)\n",
            "  adding: content/my_model/variables/variables.index (deflated 66%)\n",
            "  adding: content/my_model/variables/variables.data-00000-of-00001 (deflated 34%)\n"
          ]
        },
        {
          "output_type": "display_data",
          "data": {
            "text/plain": [
              "<IPython.core.display.Javascript object>"
            ],
            "application/javascript": [
              "\n",
              "    async function download(id, filename, size) {\n",
              "      if (!google.colab.kernel.accessAllowed) {\n",
              "        return;\n",
              "      }\n",
              "      const div = document.createElement('div');\n",
              "      const label = document.createElement('label');\n",
              "      label.textContent = `Downloading \"${filename}\": `;\n",
              "      div.appendChild(label);\n",
              "      const progress = document.createElement('progress');\n",
              "      progress.max = size;\n",
              "      div.appendChild(progress);\n",
              "      document.body.appendChild(div);\n",
              "\n",
              "      const buffers = [];\n",
              "      let downloaded = 0;\n",
              "\n",
              "      const channel = await google.colab.kernel.comms.open(id);\n",
              "      // Send a message to notify the kernel that we're ready.\n",
              "      channel.send({})\n",
              "\n",
              "      for await (const message of channel.messages) {\n",
              "        // Send a message to notify the kernel that we're ready.\n",
              "        channel.send({})\n",
              "        if (message.buffers) {\n",
              "          for (const buffer of message.buffers) {\n",
              "            buffers.push(buffer);\n",
              "            downloaded += buffer.byteLength;\n",
              "            progress.value = downloaded;\n",
              "          }\n",
              "        }\n",
              "      }\n",
              "      const blob = new Blob(buffers, {type: 'application/binary'});\n",
              "      const a = document.createElement('a');\n",
              "      a.href = window.URL.createObjectURL(blob);\n",
              "      a.download = filename;\n",
              "      div.appendChild(a);\n",
              "      a.click();\n",
              "      div.remove();\n",
              "    }\n",
              "  "
            ]
          },
          "metadata": {}
        },
        {
          "output_type": "display_data",
          "data": {
            "text/plain": [
              "<IPython.core.display.Javascript object>"
            ],
            "application/javascript": [
              "download(\"download_6f3eda52-ed1e-4e51-bec7-5cc031bc7811\", \"my_model.zip\", 119019)"
            ]
          },
          "metadata": {}
        }
      ]
    },
    {
      "cell_type": "markdown",
      "metadata": {
        "id": "RUhjARXBHeMo"
      },
      "source": [
        "# New Section"
      ]
    }
  ],
  "metadata": {
    "colab": {
      "collapsed_sections": [],
      "name": "NEURAL NETWORK UNTUK DETEKSI STUNTING",
      "provenance": [],
      "include_colab_link": true
    },
    "kernelspec": {
      "display_name": "Python 3",
      "name": "python3"
    },
    "language_info": {
      "name": "python"
    }
  },
  "nbformat": 4,
  "nbformat_minor": 0
}